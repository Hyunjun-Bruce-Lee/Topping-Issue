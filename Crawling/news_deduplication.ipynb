{
 "cells": [
  {
   "cell_type": "code",
   "execution_count": null,
   "metadata": {
    "colab": {
     "base_uri": "https://localhost:8080/"
    },
    "executionInfo": {
     "elapsed": 424,
     "status": "ok",
     "timestamp": 1634384050299,
     "user": {
      "displayName": "SeoWoo Lee",
      "photoUrl": "https://lh3.googleusercontent.com/a/default-user=s64",
      "userId": "02157991585394139414"
     },
     "user_tz": -540
    },
    "id": "ioGPAz5uzZjr",
    "outputId": "b9534aa7-b762-4c39-e34f-e0625527d4cf"
   },
   "outputs": [],
   "source": [
    "from google.colab import drive\n",
    "drive.mount('/content/drive')"
   ]
  },
  {
   "cell_type": "code",
   "execution_count": null,
   "metadata": {
    "colab": {
     "base_uri": "https://localhost:8080/"
    },
    "executionInfo": {
     "elapsed": 2978,
     "status": "ok",
     "timestamp": 1634384053631,
     "user": {
      "displayName": "SeoWoo Lee",
      "photoUrl": "https://lh3.googleusercontent.com/a/default-user=s64",
      "userId": "02157991585394139414"
     },
     "user_tz": -540
    },
    "id": "nzncKMNjop2P",
    "outputId": "796c33bb-b4e1-4293-c26f-95a600ba3736"
   },
   "outputs": [],
   "source": [
    "!pip install --upgrade pandas"
   ]
  },
  {
   "cell_type": "code",
   "execution_count": null,
   "metadata": {
    "id": "1oX4mcS9zjsK"
   },
   "outputs": [],
   "source": [
    "import pickle\n",
    "import numpy as np\n",
    "import pandas as pd\n",
    "#pd.set_option('display.max_row', 10000)\n",
    "#pd.set_option('display.max_columns', 100)\n",
    "#pd.set_option('display.max_colwidth', 5000)"
   ]
  },
  {
   "cell_type": "code",
   "execution_count": null,
   "metadata": {
    "id": "_QmsY_VIm5fg"
   },
   "outputs": [],
   "source": [
    "# Link to save deduplication file\n",
    "link_d_dedup = '/content/drive/MyDrive/NIA_NLP/DATA/DAUM/SOCIETY/10200_2102_fin.bin'"
   ]
  },
  {
   "cell_type": "code",
   "execution_count": null,
   "metadata": {
    "id": "dCPaOiFHW5i_"
   },
   "outputs": [],
   "source": [
    "daum_link1 = '/content/drive/MyDrive/NIA_NLP/DATA/DAUM/SOCIETY/10200_210512.bin'\n",
    "daum_link2 = '/content/drive/MyDrive/NIA_NLP/DATA/DAUM/SOCIETY/10200_210524.bin'\n",
    "daum_link3 = '/content/drive/MyDrive/NIA_NLP/DATA/DAUM/SOCIETY/10200_210605.bin'\n",
    "daum_link4 = '/content/drive/MyDrive/NIA_NLP/DATA/DAUM/SOCIETY/10200_210616.bin'"
   ]
  },
  {
   "cell_type": "code",
   "execution_count": null,
   "metadata": {
    "id": "i6XorJjwWfwH"
   },
   "outputs": [],
   "source": [
    "with open(daum_link1, 'rb') as f:\n",
    "  df_daum_link1 = pickle.load(f)"
   ]
  },
  {
   "cell_type": "code",
   "execution_count": null,
   "metadata": {
    "id": "tzwagMsZWfy7"
   },
   "outputs": [],
   "source": [
    "with open(daum_link2, 'rb') as f:\n",
    "  df_daum_link2 = pickle.load(f)"
   ]
  },
  {
   "cell_type": "code",
   "execution_count": null,
   "metadata": {
    "id": "kxxicYc4Wf6G"
   },
   "outputs": [],
   "source": [
    "with open(daum_link3, 'rb') as f:\n",
    "  df_daum_link3 = pickle.load(f)"
   ]
  },
  {
   "cell_type": "code",
   "execution_count": null,
   "metadata": {
    "id": "9d7cHYNlWgUh"
   },
   "outputs": [],
   "source": [
    "with open(daum_link4, 'rb') as f:\n",
    "  df_daum_link4 = pickle.load(f)"
   ]
  },
  {
   "cell_type": "code",
   "execution_count": null,
   "metadata": {
    "id": "yvI2ZuJnWgW5"
   },
   "outputs": [],
   "source": [
    "daum_frames = [df_daum_link1, df_daum_link2, df_daum_link3, df_daum_link4]"
   ]
  },
  {
   "cell_type": "code",
   "execution_count": null,
   "metadata": {
    "id": "Cyf8FNz7WgZ_"
   },
   "outputs": [],
   "source": [
    "df_daum = pd.concat(daum_frames, ignore_index=True)"
   ]
  },
  {
   "cell_type": "code",
   "execution_count": null,
   "metadata": {
    "colab": {
     "base_uri": "https://localhost:8080/",
     "height": 1000
    },
    "executionInfo": {
     "elapsed": 4,
     "status": "ok",
     "timestamp": 1634384244712,
     "user": {
      "displayName": "SeoWoo Lee",
      "photoUrl": "https://lh3.googleusercontent.com/a/default-user=s64",
      "userId": "02157991585394139414"
     },
     "user_tz": -540
    },
    "id": "mJnIczC6Wgfd",
    "outputId": "831a3c82-16de-418e-8d9b-553bf67873a7"
   },
   "outputs": [],
   "source": [
    "df_daum"
   ]
  },
  {
   "cell_type": "code",
   "execution_count": null,
   "metadata": {
    "colab": {
     "base_uri": "https://localhost:8080/",
     "height": 1000
    },
    "executionInfo": {
     "elapsed": 972,
     "status": "ok",
     "timestamp": 1634384254354,
     "user": {
      "displayName": "SeoWoo Lee",
      "photoUrl": "https://lh3.googleusercontent.com/a/default-user=s64",
      "userId": "02157991585394139414"
     },
     "user_tz": -540
    },
    "id": "L1HiYiBGvDgi",
    "outputId": "2056dc7f-bd57-49c1-c7a8-e1a11720b543"
   },
   "outputs": [],
   "source": [
    "# remove duplicate links\n",
    "df_dedup = df_daum.drop_duplicates(['Link'], keep = 'last')\n",
    "df_dedup"
   ]
  },
  {
   "cell_type": "code",
   "execution_count": null,
   "metadata": {
    "colab": {
     "base_uri": "https://localhost:8080/"
    },
    "executionInfo": {
     "elapsed": 407,
     "status": "ok",
     "timestamp": 1634384266723,
     "user": {
      "displayName": "SeoWoo Lee",
      "photoUrl": "https://lh3.googleusercontent.com/a/default-user=s64",
      "userId": "02157991585394139414"
     },
     "user_tz": -540
    },
    "id": "8_q9W5cUyPj4",
    "outputId": "ccb37075-a72c-4573-faa4-d2bc05414ede"
   },
   "outputs": [],
   "source": [
    "# remove spaces in the press name\n",
    "df_dedup[\"Press\"] = df_dedup[\"Press\"].str.replace(\" \", \"\")"
   ]
  },
  {
   "cell_type": "code",
   "execution_count": null,
   "metadata": {
    "colab": {
     "base_uri": "https://localhost:8080/"
    },
    "executionInfo": {
     "elapsed": 366,
     "status": "ok",
     "timestamp": 1634384271935,
     "user": {
      "displayName": "SeoWoo Lee",
      "photoUrl": "https://lh3.googleusercontent.com/a/default-user=s64",
      "userId": "02157991585394139414"
     },
     "user_tz": -540
    },
    "id": "ZPcMG06prBQZ",
    "outputId": "906cc56f-abd6-4121-f757-72d255276c42"
   },
   "outputs": [],
   "source": [
    "len(df_dedup)"
   ]
  },
  {
   "cell_type": "code",
   "execution_count": null,
   "metadata": {
    "colab": {
     "base_uri": "https://localhost:8080/"
    },
    "executionInfo": {
     "elapsed": 418,
     "status": "ok",
     "timestamp": 1634384275432,
     "user": {
      "displayName": "SeoWoo Lee",
      "photoUrl": "https://lh3.googleusercontent.com/a/default-user=s64",
      "userId": "02157991585394139414"
     },
     "user_tz": -540
    },
    "id": "Zi9HuBZkRvFu",
    "outputId": "71b6df81-843f-42c6-a7f4-f5ac57824e56"
   },
   "outputs": [],
   "source": [
    "print(df_dedup.dtypes, \"\\n\")"
   ]
  },
  {
   "cell_type": "code",
   "execution_count": null,
   "metadata": {
    "colab": {
     "base_uri": "https://localhost:8080/",
     "height": 1000
    },
    "executionInfo": {
     "elapsed": 6117,
     "status": "ok",
     "timestamp": 1634384284263,
     "user": {
      "displayName": "SeoWoo Lee",
      "photoUrl": "https://lh3.googleusercontent.com/a/default-user=s64",
      "userId": "02157991585394139414"
     },
     "user_tz": -540
    },
    "id": "Qhdt70cDmNuw",
    "outputId": "789a920c-f5d4-4512-e8a2-b3875b01c23b"
   },
   "outputs": [],
   "source": [
    "# check duplicate article rows\n",
    "df_dedup[df_dedup.duplicated(['Date', 'Title', 'Content', 'Press'], keep=False)]"
   ]
  },
  {
   "cell_type": "code",
   "execution_count": null,
   "metadata": {
    "id": "wc2paNouHRE6"
   },
   "outputs": [],
   "source": [
    "import itertools\n",
    "\n",
    "# combine duplicate article comments\n",
    "def sum_comment(x):\n",
    "  d = []\n",
    "  d.extend(x)\n",
    "  dd = list(itertools.chain.from_iterable(d))\n",
    "  return dd"
   ]
  },
  {
   "cell_type": "code",
   "execution_count": null,
   "metadata": {
    "id": "mSUAL-H4-95M"
   },
   "outputs": [],
   "source": [
    "# combine duplicate article sentiment\n",
    "from operator import itemgetter\n",
    "def sum_sentiment(x):\n",
    "   init_dict = list(x)\n",
    "\n",
    "   result = {}\n",
    "   for d in init_dict:\n",
    "      for k in d.keys():\n",
    "          result[k] = result.get(k, 0) + d[k]\n",
    "   return result"
   ]
  },
  {
   "cell_type": "code",
   "execution_count": null,
   "metadata": {
    "id": "ujokhohPhril"
   },
   "outputs": [],
   "source": [
    "# remove duplicate article with same date, title, content and press\n",
    "# combine duplicate article comments\n",
    "# sum duplicate article comments count\n",
    "# combine duplicate article sentiment\n",
    "df_dedup_fin = df_dedup.groupby(['Date', 'Title', 'Content', 'Press'], as_index=False).agg({'ID' : 'last', 'Content_len' : 'last', 'Comment' : lambda x : sum_comment(x) , 'Comment_cnt' : 'sum', 'Sentiment' : lambda x : sum_sentiment(x), 'Link' : 'last'})"
   ]
  },
  {
   "cell_type": "code",
   "execution_count": null,
   "metadata": {
    "colab": {
     "background_save": true,
     "base_uri": "https://localhost:8080/"
    },
    "id": "libs1imsI-pB",
    "outputId": "61c75df1-8a27-49b6-a80c-0b0a474f3c21"
   },
   "outputs": [],
   "source": [
    "for i in range(len(df_dedup_fin)):\n",
    "  if df_dedup_fin['Comment_cnt'][i] == 0:\n",
    "    df_dedup_fin['Comment'][i] = \"NA\""
   ]
  },
  {
   "cell_type": "code",
   "execution_count": null,
   "metadata": {
    "colab": {
     "base_uri": "https://localhost:8080/",
     "height": 1000
    },
    "executionInfo": {
     "elapsed": 421,
     "status": "ok",
     "timestamp": 1634387909873,
     "user": {
      "displayName": "SeoWoo Lee",
      "photoUrl": "https://lh3.googleusercontent.com/a/default-user=s64",
      "userId": "02157991585394139414"
     },
     "user_tz": -540
    },
    "id": "Mt16e2nJEcIV",
    "outputId": "4b8eb962-90b6-4187-c17a-baec7cbb427e"
   },
   "outputs": [],
   "source": [
    "df_dedup_fin"
   ]
  },
  {
   "cell_type": "code",
   "execution_count": null,
   "metadata": {
    "colab": {
     "base_uri": "https://localhost:8080/",
     "height": 598
    },
    "executionInfo": {
     "elapsed": 410,
     "status": "ok",
     "timestamp": 1634387917955,
     "user": {
      "displayName": "SeoWoo Lee",
      "photoUrl": "https://lh3.googleusercontent.com/a/default-user=s64",
      "userId": "02157991585394139414"
     },
     "user_tz": -540
    },
    "id": "A51F2PkeTHuL",
    "outputId": "dedd433f-ed43-4264-8c82-72f2ecf420c0"
   },
   "outputs": [],
   "source": [
    "# add new column Title_clean\n",
    "df_dedup_fin['Title_clean'] = \"NA\"\n",
    "df_dedup_fin.head()"
   ]
  },
  {
   "cell_type": "code",
   "execution_count": null,
   "metadata": {
    "colab": {
     "base_uri": "https://localhost:8080/"
    },
    "executionInfo": {
     "elapsed": 518,
     "status": "ok",
     "timestamp": 1634387922976,
     "user": {
      "displayName": "SeoWoo Lee",
      "photoUrl": "https://lh3.googleusercontent.com/a/default-user=s64",
      "userId": "02157991585394139414"
     },
     "user_tz": -540
    },
    "id": "fqGidBv3RmRf",
    "outputId": "578153e2-0072-4aed-df0f-759a4121bece"
   },
   "outputs": [],
   "source": [
    "len(df_dedup_fin)"
   ]
  },
  {
   "cell_type": "code",
   "execution_count": null,
   "metadata": {
    "id": "5p6QKq1LKM6s"
   },
   "outputs": [],
   "source": [
    "import re"
   ]
  },
  {
   "cell_type": "code",
   "execution_count": null,
   "metadata": {
    "id": "HJLpT0LAT0lt"
   },
   "outputs": [],
   "source": [
    "# remove special characters from text\n",
    "def clean_text(readData):\n",
    "  text = re.sub('[-=+,#/\\?:^.@*\\\"※~ㆍ!』‘|\\(\\)\\[\\]`\\'…》\\”\\“\\’·]', ' ', readData)\n",
    "  text_rr = ' '.join(text.split())\n",
    "  return text_rr"
   ]
  },
  {
   "cell_type": "code",
   "execution_count": null,
   "metadata": {
    "id": "650ieeS7YLJ_"
   },
   "outputs": [],
   "source": [
    "df_dedup_fin = df_dedup_fin.reset_index(drop = True)"
   ]
  },
  {
   "cell_type": "code",
   "execution_count": null,
   "metadata": {
    "id": "G5klOxrkZ8oK"
   },
   "outputs": [],
   "source": [
    "# add the removed special character title to Title_clean column\n",
    "df_dedup_fin['Title_clean']= df_dedup_fin['Title'].map(lambda x: clean_text(x))"
   ]
  },
  {
   "cell_type": "code",
   "execution_count": null,
   "metadata": {
    "id": "-tNzHG17vC_u"
   },
   "outputs": [],
   "source": [
    "# rename column\n",
    "df_dedup_fin.rename(columns={'Comment' : 'D_Comment', 'Comment_cnt' : 'D_Comment_cnt', 'Sentiment' : 'D_Sentiment'}, inplace=True)\n",
    "# delete unnecessary columns\n",
    "df_dedup_fin = df_dedup_fin[['ID', 'Date', 'Title', 'Content', 'Content_len', 'D_Comment', 'D_Comment_cnt', 'D_Sentiment', 'Link', 'Press', 'Title_clean']]"
   ]
  },
  {
   "cell_type": "code",
   "execution_count": null,
   "metadata": {
    "colab": {
     "base_uri": "https://localhost:8080/",
     "height": 1000
    },
    "executionInfo": {
     "elapsed": 6,
     "status": "ok",
     "timestamp": 1634387942929,
     "user": {
      "displayName": "SeoWoo Lee",
      "photoUrl": "https://lh3.googleusercontent.com/a/default-user=s64",
      "userId": "02157991585394139414"
     },
     "user_tz": -540
    },
    "id": "e1VDGsBdwoN9",
    "outputId": "7311e094-bff0-482a-d922-51ade819c70f"
   },
   "outputs": [],
   "source": [
    "df_dedup_fin"
   ]
  },
  {
   "cell_type": "code",
   "execution_count": null,
   "metadata": {
    "colab": {
     "base_uri": "https://localhost:8080/"
    },
    "executionInfo": {
     "elapsed": 375,
     "status": "ok",
     "timestamp": 1634387947411,
     "user": {
      "displayName": "SeoWoo Lee",
      "photoUrl": "https://lh3.googleusercontent.com/a/default-user=s64",
      "userId": "02157991585394139414"
     },
     "user_tz": -540
    },
    "id": "zcl2QosU02_S",
    "outputId": "70f0be38-fd55-4cfb-ec28-e536987313c7"
   },
   "outputs": [],
   "source": [
    "len(df_dedup_fin)"
   ]
  },
  {
   "cell_type": "code",
   "execution_count": null,
   "metadata": {
    "id": "KSzQabJWPe-E"
   },
   "outputs": [],
   "source": [
    "# save binary file using pickle\n",
    "with open(link_d_dedup, 'wb') as f:\n",
    "     pickle.dump(df_dedup_fin, f)"
   ]
  },
  {
   "cell_type": "code",
   "execution_count": null,
   "metadata": {
    "id": "lMI0qSjbPwWH"
   },
   "outputs": [],
   "source": [
    "# load binary file using pickle\n",
    "with open(link_d_dedup, 'rb') as f:\n",
    "  dd = pickle.load(f)"
   ]
  },
  {
   "cell_type": "code",
   "execution_count": null,
   "metadata": {
    "colab": {
     "base_uri": "https://localhost:8080/",
     "height": 1000
    },
    "executionInfo": {
     "elapsed": 21,
     "status": "ok",
     "timestamp": 1634388014039,
     "user": {
      "displayName": "SeoWoo Lee",
      "photoUrl": "https://lh3.googleusercontent.com/a/default-user=s64",
      "userId": "02157991585394139414"
     },
     "user_tz": -540
    },
    "id": "Xks7kUfhRV-X",
    "outputId": "fa9507db-af2d-4707-fb69-41106cd18e51"
   },
   "outputs": [],
   "source": [
    "dd"
   ]
  }
 ],
 "metadata": {
  "colab": {
   "authorship_tag": "ABX9TyORoX1XmMaaHBDsVoH8U9RT",
   "collapsed_sections": [],
   "name": "daum_news_deduplication.ipynb",
   "provenance": [
    {
     "file_id": "1gYYiNEjDsmYLmfFKSukP49yJa-GCji0x",
     "timestamp": 1632461572680
    }
   ]
  },
  "kernelspec": {
   "display_name": "Python 3 (ipykernel)",
   "language": "python",
   "name": "python3"
  },
  "language_info": {
   "codemirror_mode": {
    "name": "ipython",
    "version": 3
   },
   "file_extension": ".py",
   "mimetype": "text/x-python",
   "name": "python",
   "nbconvert_exporter": "python",
   "pygments_lexer": "ipython3",
   "version": "3.8.11"
  }
 },
 "nbformat": 4,
 "nbformat_minor": 4
}
